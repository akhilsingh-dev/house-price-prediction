{
 "metadata": {
  "language_info": {
   "codemirror_mode": {
    "name": "ipython",
    "version": 3
   },
   "file_extension": ".py",
   "mimetype": "text/x-python",
   "name": "python",
   "nbconvert_exporter": "python",
   "pygments_lexer": "ipython3",
   "version": "3.7.9"
  },
  "orig_nbformat": 2,
  "kernelspec": {
   "name": "python379jvsc74a57bd0c416e407f87bc9007c880e97c93f5ab16127a67782095772fdb091bfb2a0c4dd",
   "display_name": "Python 3.7.9 64-bit ('WebDev': conda)"
  }
 },
 "nbformat": 4,
 "nbformat_minor": 2,
 "cells": [
  {
   "cell_type": "code",
   "execution_count": 1,
   "metadata": {},
   "outputs": [],
   "source": [
    "import motor.motor_asyncio\n",
    "from pprint import pprint\n",
    "import asyncio\n",
    "from config import mongo_config\n",
    "import pandas as pd"
   ]
  },
  {
   "cell_type": "code",
   "execution_count": 2,
   "metadata": {},
   "outputs": [],
   "source": [
    "client = motor.motor_asyncio.AsyncIOMotorClient()\n",
    "shards = \",\".join(mongo_config[\"shards\"])\n",
    "client = motor.motor_asyncio.AsyncIOMotorClient(f'mongodb://{mongo_config[\"username\"]}:{mongo_config[\"pwd\"]}@{shards}?authSource=admin&readPreference=primary&ssl=true')\n",
    "db = client[\"house-price-db\"]\n",
    "collection = db[\"house-price\"]"
   ]
  },
  {
   "cell_type": "code",
   "execution_count": 8,
   "metadata": {},
   "outputs": [],
   "source": [
    "async def do_find(collection, n: int = 0):\n",
    "\n",
    "    if n == 0:\n",
    "        cursor = collection.find()\n",
    "    else:\n",
    "        cursor = collection.find().limit(n)\n",
    "    \n",
    "    all_docs = []\n",
    "    async for document in cursor:\n",
    "        all_docs.append(document)\n",
    "    return all_docs"
   ]
  },
  {
   "cell_type": "code",
   "execution_count": 9,
   "metadata": {},
   "outputs": [
    {
     "output_type": "stream",
     "name": "stdout",
     "text": [
      "\n[INFO] : Data successfully pulled from Atlas DB!\n\n"
     ]
    }
   ],
   "source": [
    "docs = await do_find(collection, 20)\n",
    "print(\"\\n[INFO] : Data successfully pulled from Mongo DB!\\n\")"
   ]
  },
  {
   "cell_type": "code",
   "execution_count": 10,
   "metadata": {},
   "outputs": [
    {
     "output_type": "stream",
     "name": "stdout",
     "text": [
      "(21613, 22)\n"
     ]
    }
   ],
   "source": [
    "df = pd.DataFrame.from_records(docs)\n",
    "print(df.shape)"
   ]
  },
  {
   "cell_type": "code",
   "execution_count": 11,
   "metadata": {},
   "outputs": [
    {
     "output_type": "execute_result",
     "data": {
      "text/plain": [
       "                        _id          id             date   price bedrooms  \\\n",
       "0  60a3d6e8bb6ca0237c0939a8  7129300520  20141013T000000  221900        3   \n",
       "1  60a3d6e8bb6ca0237c0939a9  6414100192  20141209T000000  538000        3   \n",
       "2  60a3d6e8bb6ca0237c0939aa  5631500400  20150225T000000  180000        2   \n",
       "3  60a3d6e8bb6ca0237c0939ab  2487200875  20141209T000000  604000        4   \n",
       "4  60a3d6e8bb6ca0237c0939ac  1954400510  20150218T000000  510000        3   \n",
       "\n",
       "  bathrooms sqft_living sqft_lot floors waterfront  ... grade sqft_above  \\\n",
       "0         1        1180     5650      1          0  ...     7       1180   \n",
       "1      2.25        2570     7242      2          0  ...     7       2170   \n",
       "2         1         770    10000      1          0  ...     6        770   \n",
       "3         3        1960     5000      1          0  ...     7       1050   \n",
       "4         2        1680     8080      1          0  ...     8       1680   \n",
       "\n",
       "  sqft_basement yr_built yr_renovated zipcode      lat      long  \\\n",
       "0             0     1955            0   98178  47.5112  -122.257   \n",
       "1           400     1951         1991   98125   47.721  -122.319   \n",
       "2             0     1933            0   98028  47.7379  -122.233   \n",
       "3           910     1965            0   98136  47.5208  -122.393   \n",
       "4             0     1987            0   98074  47.6168  -122.045   \n",
       "\n",
       "  sqft_living15 sqft_lot15  \n",
       "0          1340       5650  \n",
       "1          1690       7639  \n",
       "2          2720       8062  \n",
       "3          1360       5000  \n",
       "4          1800       7503  \n",
       "\n",
       "[5 rows x 22 columns]"
      ],
      "text/html": "<div>\n<style scoped>\n    .dataframe tbody tr th:only-of-type {\n        vertical-align: middle;\n    }\n\n    .dataframe tbody tr th {\n        vertical-align: top;\n    }\n\n    .dataframe thead th {\n        text-align: right;\n    }\n</style>\n<table border=\"1\" class=\"dataframe\">\n  <thead>\n    <tr style=\"text-align: right;\">\n      <th></th>\n      <th>_id</th>\n      <th>id</th>\n      <th>date</th>\n      <th>price</th>\n      <th>bedrooms</th>\n      <th>bathrooms</th>\n      <th>sqft_living</th>\n      <th>sqft_lot</th>\n      <th>floors</th>\n      <th>waterfront</th>\n      <th>...</th>\n      <th>grade</th>\n      <th>sqft_above</th>\n      <th>sqft_basement</th>\n      <th>yr_built</th>\n      <th>yr_renovated</th>\n      <th>zipcode</th>\n      <th>lat</th>\n      <th>long</th>\n      <th>sqft_living15</th>\n      <th>sqft_lot15</th>\n    </tr>\n  </thead>\n  <tbody>\n    <tr>\n      <th>0</th>\n      <td>60a3d6e8bb6ca0237c0939a8</td>\n      <td>7129300520</td>\n      <td>20141013T000000</td>\n      <td>221900</td>\n      <td>3</td>\n      <td>1</td>\n      <td>1180</td>\n      <td>5650</td>\n      <td>1</td>\n      <td>0</td>\n      <td>...</td>\n      <td>7</td>\n      <td>1180</td>\n      <td>0</td>\n      <td>1955</td>\n      <td>0</td>\n      <td>98178</td>\n      <td>47.5112</td>\n      <td>-122.257</td>\n      <td>1340</td>\n      <td>5650</td>\n    </tr>\n    <tr>\n      <th>1</th>\n      <td>60a3d6e8bb6ca0237c0939a9</td>\n      <td>6414100192</td>\n      <td>20141209T000000</td>\n      <td>538000</td>\n      <td>3</td>\n      <td>2.25</td>\n      <td>2570</td>\n      <td>7242</td>\n      <td>2</td>\n      <td>0</td>\n      <td>...</td>\n      <td>7</td>\n      <td>2170</td>\n      <td>400</td>\n      <td>1951</td>\n      <td>1991</td>\n      <td>98125</td>\n      <td>47.721</td>\n      <td>-122.319</td>\n      <td>1690</td>\n      <td>7639</td>\n    </tr>\n    <tr>\n      <th>2</th>\n      <td>60a3d6e8bb6ca0237c0939aa</td>\n      <td>5631500400</td>\n      <td>20150225T000000</td>\n      <td>180000</td>\n      <td>2</td>\n      <td>1</td>\n      <td>770</td>\n      <td>10000</td>\n      <td>1</td>\n      <td>0</td>\n      <td>...</td>\n      <td>6</td>\n      <td>770</td>\n      <td>0</td>\n      <td>1933</td>\n      <td>0</td>\n      <td>98028</td>\n      <td>47.7379</td>\n      <td>-122.233</td>\n      <td>2720</td>\n      <td>8062</td>\n    </tr>\n    <tr>\n      <th>3</th>\n      <td>60a3d6e8bb6ca0237c0939ab</td>\n      <td>2487200875</td>\n      <td>20141209T000000</td>\n      <td>604000</td>\n      <td>4</td>\n      <td>3</td>\n      <td>1960</td>\n      <td>5000</td>\n      <td>1</td>\n      <td>0</td>\n      <td>...</td>\n      <td>7</td>\n      <td>1050</td>\n      <td>910</td>\n      <td>1965</td>\n      <td>0</td>\n      <td>98136</td>\n      <td>47.5208</td>\n      <td>-122.393</td>\n      <td>1360</td>\n      <td>5000</td>\n    </tr>\n    <tr>\n      <th>4</th>\n      <td>60a3d6e8bb6ca0237c0939ac</td>\n      <td>1954400510</td>\n      <td>20150218T000000</td>\n      <td>510000</td>\n      <td>3</td>\n      <td>2</td>\n      <td>1680</td>\n      <td>8080</td>\n      <td>1</td>\n      <td>0</td>\n      <td>...</td>\n      <td>8</td>\n      <td>1680</td>\n      <td>0</td>\n      <td>1987</td>\n      <td>0</td>\n      <td>98074</td>\n      <td>47.6168</td>\n      <td>-122.045</td>\n      <td>1800</td>\n      <td>7503</td>\n    </tr>\n  </tbody>\n</table>\n<p>5 rows × 22 columns</p>\n</div>"
     },
     "metadata": {},
     "execution_count": 11
    }
   ],
   "source": [
    "df.head()"
   ]
  },
  {
   "cell_type": "code",
   "execution_count": null,
   "metadata": {},
   "outputs": [],
   "source": []
  }
 ]
}